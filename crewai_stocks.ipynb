{
 "cells": [
  {
   "cell_type": "code",
   "execution_count": null,
   "metadata": {},
   "outputs": [],
   "source": [
    "#instalação libs\n",
    "\n",
    "#%pip install yfinance\n",
    "#%pip install crewai\n",
    "#%pip install crewai crewai-tools\n",
    "\n",
    "\n",
    "\n"
   ]
  },
  {
   "cell_type": "code",
   "execution_count": 11,
   "metadata": {},
   "outputs": [],
   "source": [
    "#import libs\n",
    "\n",
    "import json\n",
    "import os\n",
    "from datetime import datetime\n",
    "\n",
    "import yfinance as yf\n",
    "\n",
    "from crewai import  Agent, Task, crew\n",
    "\n",
    "from langchain.tools import Tool\n",
    "from langchain_openai import ChatOpenAI\n",
    "from langchain_community.tools import DuckDuckGoSearchResults\n",
    "\n"
   ]
  },
  {
   "cell_type": "code",
   "execution_count": 11,
   "metadata": {},
   "outputs": [],
   "source": [
    "#CRIANDO YAHOO FINANCE TOOOLS\n",
    "\n",
    "def fetch_stock_price(ticket):\n",
    "    stock = yf.download(ticket, start=\"2023-08-20\", end=\"2024-08-19\")\n",
    "    return(stock) \n",
    "\n",
    "yft = Tool(\n",
    "name = \"Yahoo Finance Tools\",\n",
    "description =\" \",\n",
    "func = lambda ticket: fetch_stock_price(ticket) \n",
    "\n",
    "\n",
    ")"
   ]
  },
  {
   "cell_type": "code",
   "execution_count": null,
   "metadata": {},
   "outputs": [],
   "source": [
    "#IMPORTANDO OPENAI\n",
    "\n",
    "os.environ['OPEN_API_KEY'] = \"\",\n",
    "llm = ChatOpenAI(model = \"gpt-3.5-turbo\") "
   ]
  },
  {
   "cell_type": "code",
   "execution_count": null,
   "metadata": {},
   "outputs": [],
   "source": [
    "stockPriceAnalyst = Agent(\n",
    "\n",
    "role =\"\",\n",
    "goal=\"\",\n",
    "backstore = \"\",\n",
    "verbose = True,\n",
    "llm = llm,\n",
    "max_iter = 5,\n",
    "memory = True,\n",
    "tools = [],\n",
    "allow_delegation = False\n",
    "\n",
    ")"
   ]
  },
  {
   "cell_type": "code",
   "execution_count": null,
   "metadata": {},
   "outputs": [],
   "source": [
    "getStockPrice = Task(\n",
    "\n",
    "description = \"\",\n",
    "expected_output = \"\",\n",
    "\n",
    "agent = stockPriceAnalyst\n",
    "\n",
    ")"
   ]
  },
  {
   "cell_type": "code",
   "execution_count": null,
   "metadata": {},
   "outputs": [],
   "source": [
    "#IMPORTANDO A TOOL DE SEARCH \n",
    "\n",
    "search_tool = DuckDuckGoSearchResults(backend='news',num_results = 10 )"
   ]
  },
  {
   "cell_type": "code",
   "execution_count": null,
   "metadata": {},
   "outputs": [],
   "source": [
    "newsAnalyst = Agent(\n",
    "\n",
    "role =\"\",\n",
    "goal=\"\",\n",
    "backstore = \"\",\n",
    "verbose = True,\n",
    "llm = llm,\n",
    "max_iter = 5,\n",
    "memory = True,\n",
    "tools = [search_tool],\n",
    "allow_delegation = False\n",
    "\n",
    ")"
   ]
  },
  {
   "cell_type": "code",
   "execution_count": null,
   "metadata": {},
   "outputs": [],
   "source": [
    "get_news = Task(\n",
    "\n",
    "description = \"\",\n",
    "expected_output = \"\",\n",
    "\n",
    "agent =  newsAnalyst\n",
    "\n",
    "\n",
    ")"
   ]
  },
  {
   "cell_type": "code",
   "execution_count": null,
   "metadata": {},
   "outputs": [],
   "source": [
    "stockAnalystWriter = Agent(\n",
    "\n",
    "role =\"\",\n",
    "goal=\"\",\n",
    "backstore = \"\",\n",
    "verbose = True,\n",
    "llm = llm,\n",
    "max_iter = 5,\n",
    "memory = True,\n",
    "tools = [],\n",
    "allow_delegation = True   \n",
    ")"
   ]
  },
  {
   "cell_type": "code",
   "execution_count": null,
   "metadata": {},
   "outputs": [],
   "source": [
    "writeAnalyses = Task(\n",
    "\n",
    "description = \" \",\n",
    "expected_output = \" \", \n",
    "\n",
    "agent = stockAnalystWriter,\n",
    "context = [getStockPrice, get_news]\n",
    "\n",
    ")"
   ]
  },
  {
   "cell_type": "code",
   "execution_count": null,
   "metadata": {},
   "outputs": [],
   "source": [
    "crew = crew(\n",
    "\n",
    "    agents = [],\n",
    "    tasks = [],\n",
    "    verbose = 2,\n",
    "    process = \" \",\n",
    "    full_output = True,\n",
    "    share_crew = False,\n",
    "    \n",
    "\n",
    ")"
   ]
  }
 ],
 "metadata": {
  "kernelspec": {
   "display_name": "Python 3",
   "language": "python",
   "name": "python3"
  },
  "language_info": {
   "codemirror_mode": {
    "name": "ipython",
    "version": 3
   },
   "file_extension": ".py",
   "mimetype": "text/x-python",
   "name": "python",
   "nbconvert_exporter": "python",
   "pygments_lexer": "ipython3",
   "version": "3.12.5"
  }
 },
 "nbformat": 4,
 "nbformat_minor": 2
}
